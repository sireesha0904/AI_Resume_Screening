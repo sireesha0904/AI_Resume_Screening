{
 "cells": [
  {
   "cell_type": "code",
   "execution_count": null,
   "id": "077bfa7d-39c2-4734-aef1-6881c41102fc",
   "metadata": {},
   "outputs": [],
   "source": []
  }
 ],
 "metadata": {
  "kernelspec": {
   "display_name": "",
   "name": ""
  },
  "language_info": {
   "name": ""
  }
 },
 "nbformat": 4,
 "nbformat_minor": 5
}
